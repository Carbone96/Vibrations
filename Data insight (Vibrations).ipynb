{
 "cells": [
  {
   "cell_type": "markdown",
   "id": "88ca5467",
   "metadata": {},
   "source": [
    "# Researches on how to interpret the data from the vibrations measurements"
   ]
  },
  {
   "cell_type": "markdown",
   "id": "25c3b841",
   "metadata": {},
   "source": [
    "## Type of things to check :\n",
    "\n",
    "- Low frequencies/High frequencies : is there a difference in amplitude ?\n",
    "- Low frequencies/High frequencies : is there a significant different in the fundamental ? Is there a spread of the spectral density energy over the whole set of frequencies or is it concentrated around a fondamental harmonic ?\n",
    "- Is there a correlation between the different vibrations for the same Axial depth that can be directly related to the tool spindle speed ?\n",
    "- Search for different plots methods + automatize them in order to get fast and understable insight form the different vibrations measurments, the goals are :\n",
    "    - "
   ]
  },
  {
   "cell_type": "code",
   "execution_count": null,
   "id": "40d2e50c",
   "metadata": {},
   "outputs": [],
   "source": []
  }
 ],
 "metadata": {
  "kernelspec": {
   "display_name": "Python 3 (ipykernel)",
   "language": "python",
   "name": "python3"
  }
 },
 "nbformat": 4,
 "nbformat_minor": 5
}
